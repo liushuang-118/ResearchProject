{
 "cells": [
  {
   "cell_type": "code",
   "execution_count": 80,
   "id": "6fa338b2",
   "metadata": {},
   "outputs": [
    {
     "name": "stdout",
     "output_type": "stream",
     "text": [
      "Counter({'joy': 1011, 'sadness': 1011, 'neutral': 1011, 'disgust': 1011, 'fear': 1011, 'anger': 1011, 'surprise': 1011})\n"
     ]
    }
   ],
   "source": [
    "import pandas as pd\n",
    "import numpy as np\n",
    "import csv\n",
    "from sklearn.utils import shuffle\n",
    "from sklearn.tree import DecisionTreeClassifier\n",
    "from sklearn import tree\n",
    "from sklearn.model_selection import train_test_split\n",
    "from sklearn.model_selection import cross_val_score\n",
    "from sklearn.model_selection import cross_val_predict\n",
    "from sklearn.metrics import classification_report, accuracy_score, confusion_matrix, precision_score, recall_score, ConfusionMatrixDisplay, f1_score, balanced_accuracy_score\n",
    "from sklearn.model_selection import GridSearchCV, KFold\n",
    "import matplotlib.pyplot as plt\n",
    "import seaborn as sns\n",
    "from sklearn.model_selection import StratifiedKFold\n",
    "from collections import Counter\n",
    "from sklearn.preprocessing import StandardScaler\n",
    "from sklearn.dummy import DummyClassifier\n",
    "from imblearn.over_sampling import SMOTE\n",
    "\n",
    "\n",
    "# Read Emotion6 \n",
    "my_data_Emotion6 = pd.read_csv(\"D:\\RP_Databases\\Emotion6\\Emotion6\\ground_truth.txt\", sep='\\t')\n",
    "my_data_Emotion6[\"[image_filename]\"] = my_data_Emotion6[\"[image_filename]\"].apply(lambda x: str(x).split('/')[0])\n",
    "my_data_Emotion6.columns = [\"[image_filenames]\",\"[valence]\",\"[arousal]\",\"anger\",\"disgust\",\"fear\",\"joy\",\"sadness\",\"surprise\", \"neutral\"]\n",
    "my_data_Emotion6['Emotion'] = my_data_Emotion6[[\"anger\",\"disgust\",\"fear\",\"joy\",\"sadness\",\"surprise\", \"neutral\"]].idxmax(axis=1)\n",
    "my_data_Emotion6 = my_data_Emotion6[['Emotion', '[valence]', '[arousal]']]\n",
    "my_data_Emotion6.columns = [\"Emotion\", \"Valence\", \"Arousal\"]\n",
    "#my_data_Emotion6 = my_data_Emotion6[ my_data_Emotion6['Emotion'] != \"neutral\"]\n",
    "\n",
    "# Read IAPS\n",
    "my_data_IAPS_va = pd.read_excel(\"D:\\Libkuman-BRM-2007\\Libkuman(2007)APP-B.xls\", usecols='B, L, N',skiprows=[0,1])\n",
    "my_data_IAPS_va.columns = [\"IAPS\", \"Valence\", \"Arousal\"]\n",
    "my_data_IAPS_e = pd.read_excel(\"D:\\Libkuman-BRM-2007\\Libkuman(2007)APP-D.xls\", skiprows=[0,1,2])\n",
    "my_data_IAPS_e.columns = [\"Description\",\"IAPS\",\"N\",\"Happiness_M\",\"Happiness_SD\",\"Suprise_M\",\"Surprise_SD\",\"Sadness_M\",\"Sadness_SD\",\"Anger_M\",\"Anger_SD\",\"Disgust_M\",\"Disgust_SD\",\"Fear_M\",\"Fear_SD\" ]\n",
    "my_data_IAPS_e = my_data_IAPS_e[[\"Description\",\"IAPS\",\"Happiness_M\",\"Suprise_M\",\"Sadness_M\",\"Anger_M\",\"Disgust_M\",\"Fear_M\"]]\n",
    "my_data_IAPS_e.columns = ['Description', 'IAPS', 'joy', 'surprise','sadness', 'anger', 'disgust', 'fear' ]\n",
    "my_data_IAPS_e['Emotion'] = my_data_IAPS_e[[\"joy\",\"surprise\",\"sadness\",\"anger\",\"disgust\",\"fear\"]].idxmax(axis=1)\n",
    "my_data_IAPS_e = my_data_IAPS_e[['IAPS','Emotion']]\n",
    "\n",
    "my_data_IAPS_va[\"IAPS\"] = my_data_IAPS_va[\"IAPS\"].astype(int)\n",
    "my_data_IAPS_e[\"IAPS\"] = my_data_IAPS_e[\"IAPS\"].astype(int)\n",
    "\n",
    "my_data_IAPS = pd.concat([my_data_IAPS_e, my_data_IAPS_va], axis=1)\n",
    "my_data_IAPS = my_data_IAPS[['Emotion', 'Valence', 'Arousal']]\n",
    "\n",
    "my_data_IAPS = my_data_IAPS.dropna()\n",
    "my_data_Emotion6 = my_data_Emotion6.dropna()\n",
    "\n",
    "\n",
    "# Combine two databases\n",
    "my_data = pd.concat([my_data_IAPS, my_data_Emotion6])\n",
    "\n",
    "df = shuffle(my_data)\n",
    "\n",
    "\n",
    "# Prepare training data\n",
    "X = np.array(df[[\"Valence\", \"Arousal\"]])\n",
    "y = np.array(df[\"Emotion\"])\n",
    "\n",
    "# counter = Counter(y)\n",
    "# print(counter)\n",
    "\n",
    "# Balance dataset\n",
    "sm = SMOTE(random_state=42)\n",
    "X, y = sm.fit_resample(X, y)\n",
    "\n",
    "# counter = Counter(y)\n",
    "# print(counter)\n"
   ]
  },
  {
   "cell_type": "code",
   "execution_count": 59,
   "id": "f8eb95dd",
   "metadata": {},
   "outputs": [],
   "source": [
    "from sklearn.neighbors import KNeighborsClassifier\n"
   ]
  },
  {
   "cell_type": "code",
   "execution_count": 60,
   "id": "d5ead555",
   "metadata": {},
   "outputs": [],
   "source": [
    "from sklearn.naive_bayes import GaussianNB\n"
   ]
  },
  {
   "cell_type": "code",
   "execution_count": 66,
   "id": "4b1a2e7a",
   "metadata": {},
   "outputs": [],
   "source": [
    "# Number of random trials\n",
    "NUM_TRIALS = 30\n",
    "\n",
    "# Arrays to store scores\n",
    "nested_scores_tree_mean = np.zeros(NUM_TRIALS)\n",
    "\n",
    "nested_scores_knn_mean = np.zeros(NUM_TRIALS)\n",
    "\n",
    "nested_scores_nb_mean = np.zeros(NUM_TRIALS)\n",
    "\n",
    "nested_scores_dummy_mean = np.zeros(NUM_TRIALS)\n",
    "\n",
    "\n",
    "\n",
    "param_grid_tree = [{\n",
    "    'max_depth': [2, 4, 8, 16, 32, 64], \n",
    "    'min_samples_leaf': [2, 4, 8, 16]\n",
    "}]\n",
    "\n",
    "param_grid_knn = {\n",
    "    'n_neighbors': [2, 5, 10, 15],                                   \n",
    "    'algorithm': ['ball_tree', 'kd_tree', 'brute', 'auto'],          \n",
    "    'metric': ['minkowski', 'euclidean', 'manhattan', 'chebyshev']\n",
    "}\n",
    "\n",
    "param_grid_nb = {'var_smoothing': np.logspace(0,-9, num=100)}\n",
    "\n",
    "\n",
    "\n",
    "# Loop for each trial\n",
    "for i in range(NUM_TRIALS):\n",
    "\n",
    "    # Choose cross-validation techniques for the inner and outer loops,\n",
    "    # independently of the dataset.\n",
    "    # E.g \"GroupKFold\", \"LeaveOneOut\", \"LeaveOneGroupOut\", etc.\n",
    "#     inner_cv = StratifiedKFold(n_splits=5, shuffle=True, random_state=i)\n",
    "#     outer_cv = StratifiedKFold(n_splits=5, shuffle=True, random_state=i)\n",
    "    \n",
    "    inner_cv = KFold(n_splits=5, shuffle=True, random_state=i)\n",
    "    outer_cv = KFold(n_splits=5, shuffle=True, random_state=i)\n",
    "    \n",
    "    # Nested CV with parameter optimization\n",
    "    \n",
    "    \n",
    "    clf_tree = GridSearchCV(DecisionTreeClassifier(), param_grid_tree, cv=inner_cv, scoring='accuracy', refit=True)\n",
    "    nested_score_tree = cross_val_score(clf_tree, X=X, y=y, cv=outer_cv)\n",
    "    \n",
    "    clf_knn = GridSearchCV(KNeighborsClassifier(), param_grid_knn, cv=inner_cv, scoring='accuracy', refit = True)\n",
    "    nested_score_knn = cross_val_score(clf_knn, X=X, y=y, cv=outer_cv)\n",
    "    \n",
    "    clf_nb = GridSearchCV(GaussianNB(), param_grid_nb, cv=inner_cv, scoring='accuracy', refit=True)\n",
    "    nested_score_nb = cross_val_score(clf_nb, X=X, y=y, cv=outer_cv)\n",
    "    \n",
    "    clf_dummy = GridSearchCV(DummyClassifier(), param_grid ={'strategy': ['most_frequent']}, cv=inner_cv, scoring='accuracy', refit=True)\n",
    "    nested_score_dummy = cross_val_score(clf_dummy, X=X, y=y, cv=outer_cv)\n",
    "    \n",
    "    \n",
    "    nested_scores_tree_mean[i] = nested_score_tree.mean()\n",
    "    \n",
    "    nested_scores_knn_mean[i] = nested_score_knn.mean()\n",
    "       \n",
    "    nested_scores_nb_mean[i] = nested_score_nb.mean()\n",
    "    \n",
    "    nested_scores_dummy_mean[i] = nested_score_dummy.mean()\n"
   ]
  },
  {
   "cell_type": "code",
   "execution_count": 72,
   "id": "f52cd5f5",
   "metadata": {},
   "outputs": [
    {
     "name": "stdout",
     "output_type": "stream",
     "text": [
      "dummy classifier\n",
      "0.13051668297032734\n",
      "0.0019388659613421013\n",
      "decision tree classifier\n",
      "0.5861382883152663\n",
      "0.005340719732542098\n",
      "knn classifier\n",
      "0.6098913577289332\n",
      "0.003706164720726626\n",
      "nb classifier\n",
      "0.38573782715457866\n",
      "0.001355991674516689\n"
     ]
    },
    {
     "data": {
      "image/png": "[encoded data removed]",
      "text/plain": [
       "<Figure size 800x600 with 1 Axes>"
      ]
     },
     "metadata": {},
     "output_type": "display_data"
    }
   ],
   "source": [
    "print(\"dummy classifier\")\n",
    "print(nested_scores_dummy_mean.mean())\n",
    "print(nested_scores_dummy_mean.std())\n",
    "\n",
    "print(\"decision tree classifier\")\n",
    "print(nested_scores_tree_mean.mean())\n",
    "print(nested_scores_tree_mean.std())\n",
    "\n",
    "print(\"knn classifier\")\n",
    "print(nested_scores_knn_mean.mean())\n",
    "print(nested_scores_knn_mean.std())\n",
    "\n",
    "\n",
    "print(\"nb classifier\")\n",
    "print(nested_scores_nb_mean.mean())\n",
    "print(nested_scores_nb_mean.std())\n",
    "\n",
    "\n",
    "\n",
    "# Plot scores on each trial for nested and non-nested CV\n",
    "plt.figure(figsize=(8,6))\n",
    "plt.subplot(211)\n",
    "\n",
    "(nested_line_dummy,) = plt.plot(nested_scores_dummy_mean, color=\"salmon\")\n",
    "(nested_line_nb,) = plt.plot(nested_scores_nb_mean, color=\"cornflowerblue\")\n",
    "(nested_line_knn,) = plt.plot(nested_scores_knn_mean, color=\"darkorange\")\n",
    "(nested_line_tree,) = plt.plot(nested_scores_tree_mean, color=\"mediumseagreen\")\n",
    "plt.ylabel(\"Mean Accuracy\")\n",
    "plt.xlabel(\"Trial number\")\n",
    "plt.legend(\n",
    "    [nested_line_dummy, nested_line_nb, nested_line_knn, nested_line_tree],\n",
    "    [\"MC\", \"GB\", \"KNN\", \"DT\"],\n",
    "    loc='lower right',\n",
    "    prop = { \"size\": 8 },\n",
    ")\n",
    "plt.savefig('D:\\performance.png')\n",
    "plt.show()"
   ]
  },
  {
   "cell_type": "code",
   "execution_count": 83,
   "id": "078a681b",
   "metadata": {},
   "outputs": [
    {
     "name": "stdout",
     "output_type": "stream",
     "text": [
      "Ttest_indResult(statistic=431.83695662052355, pvalue=2.610466372732082e-69)\n",
      "Ttest_indResult(statistic=617.1899885949007, pvalue=7.291385548972115e-88)\n",
      "Ttest_indResult(statistic=580.9015221424835, pvalue=1.274050818086854e-100)\n",
      "Ttest_indResult(statistic=19.677024014001137, pvalue=1.1634673458092314e-25)\n",
      "Ttest_indResult(statistic=195.85403470606246, pvalue=8.339170059556207e-52)\n",
      "Ttest_indResult(statistic=305.8717259114873, pvalue=5.1785108795869374e-64)\n"
     ]
    }
   ],
   "source": [
    "# if p > alpha:\n",
    "#   print(\"Fail to reject null hypotesis\")\n",
    "# else:\n",
    "#   print(\"Reject null hypotesis\")\n",
    "from scipy import stats \n",
    "\n",
    "print(stats.ttest_ind(nested_scores_tree_mean, nested_scores_dummy_mean, equal_var = False))\n",
    "print(stats.ttest_ind(nested_scores_knn_mean, nested_scores_dummy_mean, equal_var = False))\n",
    "print(stats.ttest_ind(nested_scores_nb_mean, nested_scores_dummy_mean, equal_var = False))\n",
    "\n",
    "print(stats.ttest_ind(nested_scores_knn_mean, nested_scores_tree_mean, equal_var = False))\n",
    "print(stats.ttest_ind(nested_scores_tree_mean, nested_scores_nb_mean, equal_var = False))\n",
    "print(stats.ttest_ind(nested_scores_knn_mean, nested_scores_nb_mean, equal_var = False))"
   ]
  },
  {
   "cell_type": "code",
   "execution_count": 82,
   "id": "17172b9d",
   "metadata": {},
   "outputs": [
    {
     "data": {
      "text/plain": [
       "array([1.56627982e-068, 4.37483133e-087, 7.64430491e-100, 6.98080407e-025,\n",
       "       5.00350204e-051, 3.10710653e-063])"
      ]
     },
     "execution_count": 82,
     "metadata": {},
     "output_type": "execute_result"
    }
   ],
   "source": [
    "import statsmodels.stats.multitest\n",
    "from statsmodels.stats.multitest import multipletests\n",
    "\n",
    "\n",
    "# Use Bonferroni correction to correct p values for multiple testing\n",
    "pvals=[2.610466372732082e-69, 7.291385548972115e-88, 1.274050818086854e-100, 1.1634673458092314e-25, 8.339170059556207e-52, 5.1785108795869374e-64]\n",
    "\n",
    "decision, adj_pvals, sidak_aplha, bonf_alpha = statsmodels.stats.multitest.multipletests(pvals=pvals, alpha=0.05, method='bonferroni')\n",
    "\n",
    "adj_pvals\n"
   ]
  }
 ],
 "metadata": {
  "kernelspec": {
   "display_name": "Python 3 (ipykernel)",
   "language": "python",
   "name": "python3"
  },
  "language_info": {
   "codemirror_mode": {
    "name": "ipython",
    "version": 3
   },
   "file_extension": ".py",
   "mimetype": "text/x-python",
   "name": "python",
   "nbconvert_exporter": "python",
   "pygments_lexer": "ipython3",
   "version": "3.9.8"
  }
 },
 "nbformat": 4,
 "nbformat_minor": 5
}
